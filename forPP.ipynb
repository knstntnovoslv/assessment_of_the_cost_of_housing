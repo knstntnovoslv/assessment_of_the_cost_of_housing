{
 "cells": [
  {
   "cell_type": "code",
   "execution_count": 1,
   "metadata": {
    "collapsed": true
   },
   "outputs": [],
   "source": [
    "import pandas as pd\n",
    "import numpy as np\n",
    "from sklearn.model_selection import train_test_split\n",
    "from scipy.spatial import distance\n",
    "from tqdm import notebook\n",
    "import pickle\n",
    "from sklearn.neighbors import KNeighborsClassifier"
   ]
  },
  {
   "cell_type": "code",
   "execution_count": 2,
   "outputs": [
    {
     "data": {
      "text/plain": "     Unnamed: 0 Количество комнат  Цена квартиры  Площадь          Район  \\\n0             0                 1        2846000    27.10  Академический   \n1             1                 1        2946000    27.10  Академический   \n2             2                 1        3200000    30.80  Академический   \n3             3                 1        3350000    35.45  Академический   \n4             4                 1        3455000    34.95  Академический   \n..          ...               ...            ...      ...            ...   \n699         699                 3       10000000   108.76      Ленинский   \n700         700                 3       10300000   108.10      Ленинский   \n701         701                 3       10500000   108.28      Ленинский   \n702         702                 4       10600000   114.30      Ленинский   \n703         703                 4       10800000   114.30      Ленинский   \n\n                                                Ссылка  \n0    https://www.an-nks.ru/search?view=filter-searc...  \n1    https://www.an-nks.ru/search?view=filter-searc...  \n2    https://www.an-nks.ru/search?view=filter-searc...  \n3    https://www.an-nks.ru/search?view=filter-searc...  \n4    https://www.an-nks.ru/search?view=filter-searc...  \n..                                                 ...  \n699  https://www.an-nks.ru/search?view=filter-searc...  \n700  https://www.an-nks.ru/search?view=filter-searc...  \n701  https://www.an-nks.ru/search?view=filter-searc...  \n702  https://www.an-nks.ru/search?view=filter-searc...  \n703  https://www.an-nks.ru/search?view=filter-searc...  \n\n[704 rows x 6 columns]",
      "text/html": "<div>\n<style scoped>\n    .dataframe tbody tr th:only-of-type {\n        vertical-align: middle;\n    }\n\n    .dataframe tbody tr th {\n        vertical-align: top;\n    }\n\n    .dataframe thead th {\n        text-align: right;\n    }\n</style>\n<table border=\"1\" class=\"dataframe\">\n  <thead>\n    <tr style=\"text-align: right;\">\n      <th></th>\n      <th>Unnamed: 0</th>\n      <th>Количество комнат</th>\n      <th>Цена квартиры</th>\n      <th>Площадь</th>\n      <th>Район</th>\n      <th>Ссылка</th>\n    </tr>\n  </thead>\n  <tbody>\n    <tr>\n      <th>0</th>\n      <td>0</td>\n      <td>1</td>\n      <td>2846000</td>\n      <td>27.10</td>\n      <td>Академический</td>\n      <td>https://www.an-nks.ru/search?view=filter-searc...</td>\n    </tr>\n    <tr>\n      <th>1</th>\n      <td>1</td>\n      <td>1</td>\n      <td>2946000</td>\n      <td>27.10</td>\n      <td>Академический</td>\n      <td>https://www.an-nks.ru/search?view=filter-searc...</td>\n    </tr>\n    <tr>\n      <th>2</th>\n      <td>2</td>\n      <td>1</td>\n      <td>3200000</td>\n      <td>30.80</td>\n      <td>Академический</td>\n      <td>https://www.an-nks.ru/search?view=filter-searc...</td>\n    </tr>\n    <tr>\n      <th>3</th>\n      <td>3</td>\n      <td>1</td>\n      <td>3350000</td>\n      <td>35.45</td>\n      <td>Академический</td>\n      <td>https://www.an-nks.ru/search?view=filter-searc...</td>\n    </tr>\n    <tr>\n      <th>4</th>\n      <td>4</td>\n      <td>1</td>\n      <td>3455000</td>\n      <td>34.95</td>\n      <td>Академический</td>\n      <td>https://www.an-nks.ru/search?view=filter-searc...</td>\n    </tr>\n    <tr>\n      <th>...</th>\n      <td>...</td>\n      <td>...</td>\n      <td>...</td>\n      <td>...</td>\n      <td>...</td>\n      <td>...</td>\n    </tr>\n    <tr>\n      <th>699</th>\n      <td>699</td>\n      <td>3</td>\n      <td>10000000</td>\n      <td>108.76</td>\n      <td>Ленинский</td>\n      <td>https://www.an-nks.ru/search?view=filter-searc...</td>\n    </tr>\n    <tr>\n      <th>700</th>\n      <td>700</td>\n      <td>3</td>\n      <td>10300000</td>\n      <td>108.10</td>\n      <td>Ленинский</td>\n      <td>https://www.an-nks.ru/search?view=filter-searc...</td>\n    </tr>\n    <tr>\n      <th>701</th>\n      <td>701</td>\n      <td>3</td>\n      <td>10500000</td>\n      <td>108.28</td>\n      <td>Ленинский</td>\n      <td>https://www.an-nks.ru/search?view=filter-searc...</td>\n    </tr>\n    <tr>\n      <th>702</th>\n      <td>702</td>\n      <td>4</td>\n      <td>10600000</td>\n      <td>114.30</td>\n      <td>Ленинский</td>\n      <td>https://www.an-nks.ru/search?view=filter-searc...</td>\n    </tr>\n    <tr>\n      <th>703</th>\n      <td>703</td>\n      <td>4</td>\n      <td>10800000</td>\n      <td>114.30</td>\n      <td>Ленинский</td>\n      <td>https://www.an-nks.ru/search?view=filter-searc...</td>\n    </tr>\n  </tbody>\n</table>\n<p>704 rows × 6 columns</p>\n</div>"
     },
     "execution_count": 2,
     "metadata": {},
     "output_type": "execute_result"
    }
   ],
   "source": [
    "df = pd.read_csv('New_Flats.csv')\n",
    "df"
   ],
   "metadata": {
    "collapsed": false,
    "pycharm": {
     "name": "#%%\n"
    }
   }
  },
  {
   "cell_type": "code",
   "execution_count": 3,
   "outputs": [],
   "source": [
    "df = df.drop('Unnamed: 0', axis=1)"
   ],
   "metadata": {
    "collapsed": false,
    "pycharm": {
     "name": "#%%\n"
    }
   }
  },
  {
   "cell_type": "code",
   "execution_count": 4,
   "outputs": [],
   "source": [
    "def no_space(word):\n",
    "    for i in range(len(word)):\n",
    "        if word[i] == ' ':\n",
    "            word = word[0:i:1] + '_' + word[i+1:len(word):1]\n",
    "    return word"
   ],
   "metadata": {
    "collapsed": false,
    "pycharm": {
     "name": "#%%\n"
    }
   }
  },
  {
   "cell_type": "code",
   "execution_count": 5,
   "outputs": [
    {
     "data": {
      "text/plain": "['количество_комнат', 'цена_квартиры', 'площадь', 'район', 'ссылка']"
     },
     "execution_count": 5,
     "metadata": {},
     "output_type": "execute_result"
    }
   ],
   "source": [
    "new_names = []\n",
    "for name in df.columns:\n",
    "    val = no_space(name.lower())\n",
    "    new_names.append(val)\n",
    "new_names"
   ],
   "metadata": {
    "collapsed": false,
    "pycharm": {
     "name": "#%%\n"
    }
   }
  },
  {
   "cell_type": "code",
   "execution_count": 6,
   "outputs": [
    {
     "data": {
      "text/plain": "    количество_комнат  цена_квартиры  площадь          район  \\\n0                   1        2846000    27.10  Академический   \n1                   1        2946000    27.10  Академический   \n2                   1        3200000    30.80  Академический   \n3                   1        3350000    35.45  Академический   \n4                   1        3455000    34.95  Академический   \n..                ...            ...      ...            ...   \n699                 3       10000000   108.76      Ленинский   \n700                 3       10300000   108.10      Ленинский   \n701                 3       10500000   108.28      Ленинский   \n702                 4       10600000   114.30      Ленинский   \n703                 4       10800000   114.30      Ленинский   \n\n                                                ссылка  \n0    https://www.an-nks.ru/search?view=filter-searc...  \n1    https://www.an-nks.ru/search?view=filter-searc...  \n2    https://www.an-nks.ru/search?view=filter-searc...  \n3    https://www.an-nks.ru/search?view=filter-searc...  \n4    https://www.an-nks.ru/search?view=filter-searc...  \n..                                                 ...  \n699  https://www.an-nks.ru/search?view=filter-searc...  \n700  https://www.an-nks.ru/search?view=filter-searc...  \n701  https://www.an-nks.ru/search?view=filter-searc...  \n702  https://www.an-nks.ru/search?view=filter-searc...  \n703  https://www.an-nks.ru/search?view=filter-searc...  \n\n[704 rows x 5 columns]",
      "text/html": "<div>\n<style scoped>\n    .dataframe tbody tr th:only-of-type {\n        vertical-align: middle;\n    }\n\n    .dataframe tbody tr th {\n        vertical-align: top;\n    }\n\n    .dataframe thead th {\n        text-align: right;\n    }\n</style>\n<table border=\"1\" class=\"dataframe\">\n  <thead>\n    <tr style=\"text-align: right;\">\n      <th></th>\n      <th>количество_комнат</th>\n      <th>цена_квартиры</th>\n      <th>площадь</th>\n      <th>район</th>\n      <th>ссылка</th>\n    </tr>\n  </thead>\n  <tbody>\n    <tr>\n      <th>0</th>\n      <td>1</td>\n      <td>2846000</td>\n      <td>27.10</td>\n      <td>Академический</td>\n      <td>https://www.an-nks.ru/search?view=filter-searc...</td>\n    </tr>\n    <tr>\n      <th>1</th>\n      <td>1</td>\n      <td>2946000</td>\n      <td>27.10</td>\n      <td>Академический</td>\n      <td>https://www.an-nks.ru/search?view=filter-searc...</td>\n    </tr>\n    <tr>\n      <th>2</th>\n      <td>1</td>\n      <td>3200000</td>\n      <td>30.80</td>\n      <td>Академический</td>\n      <td>https://www.an-nks.ru/search?view=filter-searc...</td>\n    </tr>\n    <tr>\n      <th>3</th>\n      <td>1</td>\n      <td>3350000</td>\n      <td>35.45</td>\n      <td>Академический</td>\n      <td>https://www.an-nks.ru/search?view=filter-searc...</td>\n    </tr>\n    <tr>\n      <th>4</th>\n      <td>1</td>\n      <td>3455000</td>\n      <td>34.95</td>\n      <td>Академический</td>\n      <td>https://www.an-nks.ru/search?view=filter-searc...</td>\n    </tr>\n    <tr>\n      <th>...</th>\n      <td>...</td>\n      <td>...</td>\n      <td>...</td>\n      <td>...</td>\n      <td>...</td>\n    </tr>\n    <tr>\n      <th>699</th>\n      <td>3</td>\n      <td>10000000</td>\n      <td>108.76</td>\n      <td>Ленинский</td>\n      <td>https://www.an-nks.ru/search?view=filter-searc...</td>\n    </tr>\n    <tr>\n      <th>700</th>\n      <td>3</td>\n      <td>10300000</td>\n      <td>108.10</td>\n      <td>Ленинский</td>\n      <td>https://www.an-nks.ru/search?view=filter-searc...</td>\n    </tr>\n    <tr>\n      <th>701</th>\n      <td>3</td>\n      <td>10500000</td>\n      <td>108.28</td>\n      <td>Ленинский</td>\n      <td>https://www.an-nks.ru/search?view=filter-searc...</td>\n    </tr>\n    <tr>\n      <th>702</th>\n      <td>4</td>\n      <td>10600000</td>\n      <td>114.30</td>\n      <td>Ленинский</td>\n      <td>https://www.an-nks.ru/search?view=filter-searc...</td>\n    </tr>\n    <tr>\n      <th>703</th>\n      <td>4</td>\n      <td>10800000</td>\n      <td>114.30</td>\n      <td>Ленинский</td>\n      <td>https://www.an-nks.ru/search?view=filter-searc...</td>\n    </tr>\n  </tbody>\n</table>\n<p>704 rows × 5 columns</p>\n</div>"
     },
     "execution_count": 6,
     "metadata": {},
     "output_type": "execute_result"
    }
   ],
   "source": [
    "df.set_axis(new_names, axis=1, inplace=True)\n",
    "df"
   ],
   "metadata": {
    "collapsed": false,
    "pycharm": {
     "name": "#%%\n"
    }
   }
  },
  {
   "cell_type": "code",
   "execution_count": 7,
   "outputs": [
    {
     "data": {
      "text/plain": "Чкаловский         349\nОктябрьский        100\nЖелезнодорожный     98\nВерх-Исетский       79\nЛенинский           51\nАкадемический       27\nName: район, dtype: int64"
     },
     "execution_count": 7,
     "metadata": {},
     "output_type": "execute_result"
    }
   ],
   "source": [
    "df['район'].value_counts()"
   ],
   "metadata": {
    "collapsed": false,
    "pycharm": {
     "name": "#%%\n"
    }
   }
  },
  {
   "cell_type": "code",
   "execution_count": 8,
   "outputs": [],
   "source": [
    "def category(value):\n",
    "    if value < 6:\n",
    "        res = 'дешевая'\n",
    "    elif value < 8:\n",
    "        res = 'средняя'\n",
    "    else:\n",
    "        res = 'премиальная'\n",
    "    return res"
   ],
   "metadata": {
    "collapsed": false,
    "pycharm": {
     "name": "#%%\n"
    }
   }
  },
  {
   "cell_type": "code",
   "execution_count": 9,
   "outputs": [
    {
     "data": {
      "text/plain": "    количество_комнат  цена_квартиры  площадь          район  \\\n0                   1           2.85    27.10  Академический   \n1                   1           2.95    27.10  Академический   \n2                   1           3.20    30.80  Академический   \n3                   1           3.35    35.45  Академический   \n4                   1           3.46    34.95  Академический   \n..                ...            ...      ...            ...   \n699                 3          10.00   108.76      Ленинский   \n700                 3          10.30   108.10      Ленинский   \n701                 3          10.50   108.28      Ленинский   \n702                 4          10.60   114.30      Ленинский   \n703                 4          10.80   114.30      Ленинский   \n\n                                                ссылка  \n0    https://www.an-nks.ru/search?view=filter-searc...  \n1    https://www.an-nks.ru/search?view=filter-searc...  \n2    https://www.an-nks.ru/search?view=filter-searc...  \n3    https://www.an-nks.ru/search?view=filter-searc...  \n4    https://www.an-nks.ru/search?view=filter-searc...  \n..                                                 ...  \n699  https://www.an-nks.ru/search?view=filter-searc...  \n700  https://www.an-nks.ru/search?view=filter-searc...  \n701  https://www.an-nks.ru/search?view=filter-searc...  \n702  https://www.an-nks.ru/search?view=filter-searc...  \n703  https://www.an-nks.ru/search?view=filter-searc...  \n\n[704 rows x 5 columns]",
      "text/html": "<div>\n<style scoped>\n    .dataframe tbody tr th:only-of-type {\n        vertical-align: middle;\n    }\n\n    .dataframe tbody tr th {\n        vertical-align: top;\n    }\n\n    .dataframe thead th {\n        text-align: right;\n    }\n</style>\n<table border=\"1\" class=\"dataframe\">\n  <thead>\n    <tr style=\"text-align: right;\">\n      <th></th>\n      <th>количество_комнат</th>\n      <th>цена_квартиры</th>\n      <th>площадь</th>\n      <th>район</th>\n      <th>ссылка</th>\n    </tr>\n  </thead>\n  <tbody>\n    <tr>\n      <th>0</th>\n      <td>1</td>\n      <td>2.85</td>\n      <td>27.10</td>\n      <td>Академический</td>\n      <td>https://www.an-nks.ru/search?view=filter-searc...</td>\n    </tr>\n    <tr>\n      <th>1</th>\n      <td>1</td>\n      <td>2.95</td>\n      <td>27.10</td>\n      <td>Академический</td>\n      <td>https://www.an-nks.ru/search?view=filter-searc...</td>\n    </tr>\n    <tr>\n      <th>2</th>\n      <td>1</td>\n      <td>3.20</td>\n      <td>30.80</td>\n      <td>Академический</td>\n      <td>https://www.an-nks.ru/search?view=filter-searc...</td>\n    </tr>\n    <tr>\n      <th>3</th>\n      <td>1</td>\n      <td>3.35</td>\n      <td>35.45</td>\n      <td>Академический</td>\n      <td>https://www.an-nks.ru/search?view=filter-searc...</td>\n    </tr>\n    <tr>\n      <th>4</th>\n      <td>1</td>\n      <td>3.46</td>\n      <td>34.95</td>\n      <td>Академический</td>\n      <td>https://www.an-nks.ru/search?view=filter-searc...</td>\n    </tr>\n    <tr>\n      <th>...</th>\n      <td>...</td>\n      <td>...</td>\n      <td>...</td>\n      <td>...</td>\n      <td>...</td>\n    </tr>\n    <tr>\n      <th>699</th>\n      <td>3</td>\n      <td>10.00</td>\n      <td>108.76</td>\n      <td>Ленинский</td>\n      <td>https://www.an-nks.ru/search?view=filter-searc...</td>\n    </tr>\n    <tr>\n      <th>700</th>\n      <td>3</td>\n      <td>10.30</td>\n      <td>108.10</td>\n      <td>Ленинский</td>\n      <td>https://www.an-nks.ru/search?view=filter-searc...</td>\n    </tr>\n    <tr>\n      <th>701</th>\n      <td>3</td>\n      <td>10.50</td>\n      <td>108.28</td>\n      <td>Ленинский</td>\n      <td>https://www.an-nks.ru/search?view=filter-searc...</td>\n    </tr>\n    <tr>\n      <th>702</th>\n      <td>4</td>\n      <td>10.60</td>\n      <td>114.30</td>\n      <td>Ленинский</td>\n      <td>https://www.an-nks.ru/search?view=filter-searc...</td>\n    </tr>\n    <tr>\n      <th>703</th>\n      <td>4</td>\n      <td>10.80</td>\n      <td>114.30</td>\n      <td>Ленинский</td>\n      <td>https://www.an-nks.ru/search?view=filter-searc...</td>\n    </tr>\n  </tbody>\n</table>\n<p>704 rows × 5 columns</p>\n</div>"
     },
     "execution_count": 9,
     "metadata": {},
     "output_type": "execute_result"
    }
   ],
   "source": [
    "df['цена_квартиры'] = round(df['цена_квартиры'] / 10**6, 2)\n",
    "df"
   ],
   "metadata": {
    "collapsed": false,
    "pycharm": {
     "name": "#%%\n"
    }
   }
  },
  {
   "cell_type": "code",
   "execution_count": 10,
   "outputs": [],
   "source": [
    "df['категория'] = df['цена_квартиры'].apply(category)"
   ],
   "metadata": {
    "collapsed": false,
    "pycharm": {
     "name": "#%%\n"
    }
   }
  },
  {
   "cell_type": "code",
   "execution_count": 11,
   "outputs": [
    {
     "data": {
      "text/plain": "количество_комнат     object\nцена_квартиры        float64\nплощадь              float64\nрайон                 object\nссылка                object\nкатегория             object\ndtype: object"
     },
     "execution_count": 11,
     "metadata": {},
     "output_type": "execute_result"
    }
   ],
   "source": [
    "df.dtypes"
   ],
   "metadata": {
    "collapsed": false,
    "pycharm": {
     "name": "#%%\n"
    }
   }
  },
  {
   "cell_type": "code",
   "execution_count": 12,
   "outputs": [],
   "source": [
    "df.loc[df['количество_комнат'] == 'Ст', 'количество_комнат'] = 0"
   ],
   "metadata": {
    "collapsed": false,
    "pycharm": {
     "name": "#%%\n"
    }
   }
  },
  {
   "cell_type": "code",
   "execution_count": 13,
   "outputs": [
    {
     "data": {
      "text/plain": "количество_комнат      int64\nцена_квартиры        float64\nплощадь              float64\nрайон                 object\nссылка                object\nкатегория             object\ndtype: object"
     },
     "execution_count": 13,
     "metadata": {},
     "output_type": "execute_result"
    }
   ],
   "source": [
    "df['количество_комнат'] = pd.to_numeric(df['количество_комнат'])\n",
    "df.dtypes"
   ],
   "metadata": {
    "collapsed": false,
    "pycharm": {
     "name": "#%%\n"
    }
   }
  },
  {
   "cell_type": "code",
   "execution_count": 14,
   "outputs": [
    {
     "data": {
      "text/plain": "137"
     },
     "execution_count": 14,
     "metadata": {},
     "output_type": "execute_result"
    }
   ],
   "source": [
    "df.duplicated().sum()"
   ],
   "metadata": {
    "collapsed": false,
    "pycharm": {
     "name": "#%%\n"
    }
   }
  },
  {
   "cell_type": "code",
   "execution_count": 15,
   "outputs": [
    {
     "data": {
      "text/plain": "   количество_комнат  цена_квартиры  площадь          район  \\\n0                  1           2.85    27.10  Академический   \n1                  1           2.95    27.10  Академический   \n2                  1           3.20    30.80  Академический   \n3                  1           3.35    35.45  Академический   \n4                  1           3.46    34.95  Академический   \n5                  1           3.68    37.25  Академический   \n6                  1           3.79    40.85  Академический   \n7                  1           3.82    41.15  Академический   \n8                  1           3.91    42.00  Академический   \n9                  1           3.94    42.50  Академический   \n\n                                              ссылка категория  \n0  https://www.an-nks.ru/search?view=filter-searc...   дешевая  \n1  https://www.an-nks.ru/search?view=filter-searc...   дешевая  \n2  https://www.an-nks.ru/search?view=filter-searc...   дешевая  \n3  https://www.an-nks.ru/search?view=filter-searc...   дешевая  \n4  https://www.an-nks.ru/search?view=filter-searc...   дешевая  \n5  https://www.an-nks.ru/search?view=filter-searc...   дешевая  \n6  https://www.an-nks.ru/search?view=filter-searc...   дешевая  \n7  https://www.an-nks.ru/search?view=filter-searc...   дешевая  \n8  https://www.an-nks.ru/search?view=filter-searc...   дешевая  \n9  https://www.an-nks.ru/search?view=filter-searc...   дешевая  ",
      "text/html": "<div>\n<style scoped>\n    .dataframe tbody tr th:only-of-type {\n        vertical-align: middle;\n    }\n\n    .dataframe tbody tr th {\n        vertical-align: top;\n    }\n\n    .dataframe thead th {\n        text-align: right;\n    }\n</style>\n<table border=\"1\" class=\"dataframe\">\n  <thead>\n    <tr style=\"text-align: right;\">\n      <th></th>\n      <th>количество_комнат</th>\n      <th>цена_квартиры</th>\n      <th>площадь</th>\n      <th>район</th>\n      <th>ссылка</th>\n      <th>категория</th>\n    </tr>\n  </thead>\n  <tbody>\n    <tr>\n      <th>0</th>\n      <td>1</td>\n      <td>2.85</td>\n      <td>27.10</td>\n      <td>Академический</td>\n      <td>https://www.an-nks.ru/search?view=filter-searc...</td>\n      <td>дешевая</td>\n    </tr>\n    <tr>\n      <th>1</th>\n      <td>1</td>\n      <td>2.95</td>\n      <td>27.10</td>\n      <td>Академический</td>\n      <td>https://www.an-nks.ru/search?view=filter-searc...</td>\n      <td>дешевая</td>\n    </tr>\n    <tr>\n      <th>2</th>\n      <td>1</td>\n      <td>3.20</td>\n      <td>30.80</td>\n      <td>Академический</td>\n      <td>https://www.an-nks.ru/search?view=filter-searc...</td>\n      <td>дешевая</td>\n    </tr>\n    <tr>\n      <th>3</th>\n      <td>1</td>\n      <td>3.35</td>\n      <td>35.45</td>\n      <td>Академический</td>\n      <td>https://www.an-nks.ru/search?view=filter-searc...</td>\n      <td>дешевая</td>\n    </tr>\n    <tr>\n      <th>4</th>\n      <td>1</td>\n      <td>3.46</td>\n      <td>34.95</td>\n      <td>Академический</td>\n      <td>https://www.an-nks.ru/search?view=filter-searc...</td>\n      <td>дешевая</td>\n    </tr>\n    <tr>\n      <th>5</th>\n      <td>1</td>\n      <td>3.68</td>\n      <td>37.25</td>\n      <td>Академический</td>\n      <td>https://www.an-nks.ru/search?view=filter-searc...</td>\n      <td>дешевая</td>\n    </tr>\n    <tr>\n      <th>6</th>\n      <td>1</td>\n      <td>3.79</td>\n      <td>40.85</td>\n      <td>Академический</td>\n      <td>https://www.an-nks.ru/search?view=filter-searc...</td>\n      <td>дешевая</td>\n    </tr>\n    <tr>\n      <th>7</th>\n      <td>1</td>\n      <td>3.82</td>\n      <td>41.15</td>\n      <td>Академический</td>\n      <td>https://www.an-nks.ru/search?view=filter-searc...</td>\n      <td>дешевая</td>\n    </tr>\n    <tr>\n      <th>8</th>\n      <td>1</td>\n      <td>3.91</td>\n      <td>42.00</td>\n      <td>Академический</td>\n      <td>https://www.an-nks.ru/search?view=filter-searc...</td>\n      <td>дешевая</td>\n    </tr>\n    <tr>\n      <th>9</th>\n      <td>1</td>\n      <td>3.94</td>\n      <td>42.50</td>\n      <td>Академический</td>\n      <td>https://www.an-nks.ru/search?view=filter-searc...</td>\n      <td>дешевая</td>\n    </tr>\n  </tbody>\n</table>\n</div>"
     },
     "execution_count": 15,
     "metadata": {},
     "output_type": "execute_result"
    }
   ],
   "source": [
    "df = df.drop_duplicates().reset_index(drop=True)\n",
    "df.head(10)"
   ],
   "metadata": {
    "collapsed": false,
    "pycharm": {
     "name": "#%%\n"
    }
   }
  },
  {
   "cell_type": "code",
   "execution_count": 16,
   "outputs": [],
   "source": [
    "features = df.drop(['цена_квартиры', 'ссылка'], axis=1)\n",
    "target = df['ссылка']"
   ],
   "metadata": {
    "collapsed": false,
    "pycharm": {
     "name": "#%%\n"
    }
   }
  },
  {
   "cell_type": "code",
   "execution_count": 17,
   "outputs": [],
   "source": [
    "features = pd.get_dummies(features)"
   ],
   "metadata": {
    "collapsed": false,
    "pycharm": {
     "name": "#%%\n"
    }
   }
  },
  {
   "cell_type": "code",
   "execution_count": 18,
   "outputs": [],
   "source": [
    "features_train, features_test, target_train, target_test = train_test_split(\n",
    "    features, target, random_state=12345, test_size=0.2)"
   ],
   "metadata": {
    "collapsed": false,
    "pycharm": {
     "name": "#%%\n"
    }
   }
  },
  {
   "cell_type": "code",
   "execution_count": 19,
   "outputs": [],
   "source": [
    "features_train = features_train.reset_index(drop=True)\n",
    "features_test = features_test.reset_index(drop=True)\n",
    "target_train = target_train.reset_index(drop=True)\n",
    "target_test = target_test.reset_index(drop=True)"
   ],
   "metadata": {
    "collapsed": false,
    "pycharm": {
     "name": "#%%\n"
    }
   }
  },
  {
   "cell_type": "code",
   "execution_count": 20,
   "outputs": [
    {
     "data": {
      "text/plain": "     количество_комнат  площадь  район_Академический  район_Верх-Исетский  \\\n0                    2    57.00                    0                    0   \n1                    1    36.00                    0                    0   \n2                    2    48.30                    0                    0   \n3                    2    60.00                    0                    0   \n4                    3    73.40                    0                    0   \n..                 ...      ...                  ...                  ...   \n109                  2    48.00                    0                    0   \n110                  1    42.51                    0                    0   \n111                  0    24.00                    0                    0   \n112                  1    40.65                    0                    0   \n113                  1    43.05                    1                    0   \n\n     район_Железнодорожный  район_Ленинский  район_Октябрьский  \\\n0                        1                0                  0   \n1                        0                0                  0   \n2                        0                0                  0   \n3                        0                0                  1   \n4                        0                0                  1   \n..                     ...              ...                ...   \n109                      0                0                  0   \n110                      0                1                  0   \n111                      0                0                  0   \n112                      0                1                  0   \n113                      0                0                  0   \n\n     район_Чкаловский  категория_дешевая  категория_премиальная  \\\n0                   0                  1                      0   \n1                   1                  1                      0   \n2                   1                  1                      0   \n3                   0                  0                      0   \n4                   0                  0                      0   \n..                ...                ...                    ...   \n109                 1                  1                      0   \n110                 0                  1                      0   \n111                 1                  1                      0   \n112                 0                  0                      0   \n113                 0                  1                      0   \n\n     категория_средняя  \n0                    0  \n1                    0  \n2                    0  \n3                    1  \n4                    1  \n..                 ...  \n109                  0  \n110                  0  \n111                  0  \n112                  1  \n113                  0  \n\n[114 rows x 11 columns]",
      "text/html": "<div>\n<style scoped>\n    .dataframe tbody tr th:only-of-type {\n        vertical-align: middle;\n    }\n\n    .dataframe tbody tr th {\n        vertical-align: top;\n    }\n\n    .dataframe thead th {\n        text-align: right;\n    }\n</style>\n<table border=\"1\" class=\"dataframe\">\n  <thead>\n    <tr style=\"text-align: right;\">\n      <th></th>\n      <th>количество_комнат</th>\n      <th>площадь</th>\n      <th>район_Академический</th>\n      <th>район_Верх-Исетский</th>\n      <th>район_Железнодорожный</th>\n      <th>район_Ленинский</th>\n      <th>район_Октябрьский</th>\n      <th>район_Чкаловский</th>\n      <th>категория_дешевая</th>\n      <th>категория_премиальная</th>\n      <th>категория_средняя</th>\n    </tr>\n  </thead>\n  <tbody>\n    <tr>\n      <th>0</th>\n      <td>2</td>\n      <td>57.00</td>\n      <td>0</td>\n      <td>0</td>\n      <td>1</td>\n      <td>0</td>\n      <td>0</td>\n      <td>0</td>\n      <td>1</td>\n      <td>0</td>\n      <td>0</td>\n    </tr>\n    <tr>\n      <th>1</th>\n      <td>1</td>\n      <td>36.00</td>\n      <td>0</td>\n      <td>0</td>\n      <td>0</td>\n      <td>0</td>\n      <td>0</td>\n      <td>1</td>\n      <td>1</td>\n      <td>0</td>\n      <td>0</td>\n    </tr>\n    <tr>\n      <th>2</th>\n      <td>2</td>\n      <td>48.30</td>\n      <td>0</td>\n      <td>0</td>\n      <td>0</td>\n      <td>0</td>\n      <td>0</td>\n      <td>1</td>\n      <td>1</td>\n      <td>0</td>\n      <td>0</td>\n    </tr>\n    <tr>\n      <th>3</th>\n      <td>2</td>\n      <td>60.00</td>\n      <td>0</td>\n      <td>0</td>\n      <td>0</td>\n      <td>0</td>\n      <td>1</td>\n      <td>0</td>\n      <td>0</td>\n      <td>0</td>\n      <td>1</td>\n    </tr>\n    <tr>\n      <th>4</th>\n      <td>3</td>\n      <td>73.40</td>\n      <td>0</td>\n      <td>0</td>\n      <td>0</td>\n      <td>0</td>\n      <td>1</td>\n      <td>0</td>\n      <td>0</td>\n      <td>0</td>\n      <td>1</td>\n    </tr>\n    <tr>\n      <th>...</th>\n      <td>...</td>\n      <td>...</td>\n      <td>...</td>\n      <td>...</td>\n      <td>...</td>\n      <td>...</td>\n      <td>...</td>\n      <td>...</td>\n      <td>...</td>\n      <td>...</td>\n      <td>...</td>\n    </tr>\n    <tr>\n      <th>109</th>\n      <td>2</td>\n      <td>48.00</td>\n      <td>0</td>\n      <td>0</td>\n      <td>0</td>\n      <td>0</td>\n      <td>0</td>\n      <td>1</td>\n      <td>1</td>\n      <td>0</td>\n      <td>0</td>\n    </tr>\n    <tr>\n      <th>110</th>\n      <td>1</td>\n      <td>42.51</td>\n      <td>0</td>\n      <td>0</td>\n      <td>0</td>\n      <td>1</td>\n      <td>0</td>\n      <td>0</td>\n      <td>1</td>\n      <td>0</td>\n      <td>0</td>\n    </tr>\n    <tr>\n      <th>111</th>\n      <td>0</td>\n      <td>24.00</td>\n      <td>0</td>\n      <td>0</td>\n      <td>0</td>\n      <td>0</td>\n      <td>0</td>\n      <td>1</td>\n      <td>1</td>\n      <td>0</td>\n      <td>0</td>\n    </tr>\n    <tr>\n      <th>112</th>\n      <td>1</td>\n      <td>40.65</td>\n      <td>0</td>\n      <td>0</td>\n      <td>0</td>\n      <td>1</td>\n      <td>0</td>\n      <td>0</td>\n      <td>0</td>\n      <td>0</td>\n      <td>1</td>\n    </tr>\n    <tr>\n      <th>113</th>\n      <td>1</td>\n      <td>43.05</td>\n      <td>1</td>\n      <td>0</td>\n      <td>0</td>\n      <td>0</td>\n      <td>0</td>\n      <td>0</td>\n      <td>1</td>\n      <td>0</td>\n      <td>0</td>\n    </tr>\n  </tbody>\n</table>\n<p>114 rows × 11 columns</p>\n</div>"
     },
     "execution_count": 20,
     "metadata": {},
     "output_type": "execute_result"
    }
   ],
   "source": [
    "features_test"
   ],
   "metadata": {
    "collapsed": false,
    "pycharm": {
     "name": "#%%\n"
    }
   }
  },
  {
   "cell_type": "code",
   "execution_count": 21,
   "outputs": [
    {
     "data": {
      "text/plain": "     количество_комнат  площадь  район_Академический  район_Верх-Исетский  \\\n0                    2    57.00                    0                    0   \n1                    1    36.00                    0                    0   \n2                    2    48.30                    0                    0   \n3                    2    60.00                    0                    0   \n4                    3    73.40                    0                    0   \n..                 ...      ...                  ...                  ...   \n109                  2    48.00                    0                    0   \n110                  1    42.51                    0                    0   \n111                  0    24.00                    0                    0   \n112                  1    40.65                    0                    0   \n113                  1    43.05                    1                    0   \n\n     район_Железнодорожный  район_Ленинский  район_Октябрьский  \\\n0                        1                0                  0   \n1                        0                0                  0   \n2                        0                0                  0   \n3                        0                0                  1   \n4                        0                0                  1   \n..                     ...              ...                ...   \n109                      0                0                  0   \n110                      0                1                  0   \n111                      0                0                  0   \n112                      0                1                  0   \n113                      0                0                  0   \n\n     район_Чкаловский  категория_дешевая  категория_премиальная  \\\n0                   0                  1                      0   \n1                   1                  1                      0   \n2                   1                  1                      0   \n3                   0                  0                      0   \n4                   0                  0                      0   \n..                ...                ...                    ...   \n109                 1                  1                      0   \n110                 0                  1                      0   \n111                 1                  1                      0   \n112                 0                  0                      0   \n113                 0                  1                      0   \n\n     категория_средняя  \n0                    0  \n1                    0  \n2                    0  \n3                    1  \n4                    1  \n..                 ...  \n109                  0  \n110                  0  \n111                  0  \n112                  1  \n113                  0  \n\n[114 rows x 11 columns]",
      "text/html": "<div>\n<style scoped>\n    .dataframe tbody tr th:only-of-type {\n        vertical-align: middle;\n    }\n\n    .dataframe tbody tr th {\n        vertical-align: top;\n    }\n\n    .dataframe thead th {\n        text-align: right;\n    }\n</style>\n<table border=\"1\" class=\"dataframe\">\n  <thead>\n    <tr style=\"text-align: right;\">\n      <th></th>\n      <th>количество_комнат</th>\n      <th>площадь</th>\n      <th>район_Академический</th>\n      <th>район_Верх-Исетский</th>\n      <th>район_Железнодорожный</th>\n      <th>район_Ленинский</th>\n      <th>район_Октябрьский</th>\n      <th>район_Чкаловский</th>\n      <th>категория_дешевая</th>\n      <th>категория_премиальная</th>\n      <th>категория_средняя</th>\n    </tr>\n  </thead>\n  <tbody>\n    <tr>\n      <th>0</th>\n      <td>2</td>\n      <td>57.00</td>\n      <td>0</td>\n      <td>0</td>\n      <td>1</td>\n      <td>0</td>\n      <td>0</td>\n      <td>0</td>\n      <td>1</td>\n      <td>0</td>\n      <td>0</td>\n    </tr>\n    <tr>\n      <th>1</th>\n      <td>1</td>\n      <td>36.00</td>\n      <td>0</td>\n      <td>0</td>\n      <td>0</td>\n      <td>0</td>\n      <td>0</td>\n      <td>1</td>\n      <td>1</td>\n      <td>0</td>\n      <td>0</td>\n    </tr>\n    <tr>\n      <th>2</th>\n      <td>2</td>\n      <td>48.30</td>\n      <td>0</td>\n      <td>0</td>\n      <td>0</td>\n      <td>0</td>\n      <td>0</td>\n      <td>1</td>\n      <td>1</td>\n      <td>0</td>\n      <td>0</td>\n    </tr>\n    <tr>\n      <th>3</th>\n      <td>2</td>\n      <td>60.00</td>\n      <td>0</td>\n      <td>0</td>\n      <td>0</td>\n      <td>0</td>\n      <td>1</td>\n      <td>0</td>\n      <td>0</td>\n      <td>0</td>\n      <td>1</td>\n    </tr>\n    <tr>\n      <th>4</th>\n      <td>3</td>\n      <td>73.40</td>\n      <td>0</td>\n      <td>0</td>\n      <td>0</td>\n      <td>0</td>\n      <td>1</td>\n      <td>0</td>\n      <td>0</td>\n      <td>0</td>\n      <td>1</td>\n    </tr>\n    <tr>\n      <th>...</th>\n      <td>...</td>\n      <td>...</td>\n      <td>...</td>\n      <td>...</td>\n      <td>...</td>\n      <td>...</td>\n      <td>...</td>\n      <td>...</td>\n      <td>...</td>\n      <td>...</td>\n      <td>...</td>\n    </tr>\n    <tr>\n      <th>109</th>\n      <td>2</td>\n      <td>48.00</td>\n      <td>0</td>\n      <td>0</td>\n      <td>0</td>\n      <td>0</td>\n      <td>0</td>\n      <td>1</td>\n      <td>1</td>\n      <td>0</td>\n      <td>0</td>\n    </tr>\n    <tr>\n      <th>110</th>\n      <td>1</td>\n      <td>42.51</td>\n      <td>0</td>\n      <td>0</td>\n      <td>0</td>\n      <td>1</td>\n      <td>0</td>\n      <td>0</td>\n      <td>1</td>\n      <td>0</td>\n      <td>0</td>\n    </tr>\n    <tr>\n      <th>111</th>\n      <td>0</td>\n      <td>24.00</td>\n      <td>0</td>\n      <td>0</td>\n      <td>0</td>\n      <td>0</td>\n      <td>0</td>\n      <td>1</td>\n      <td>1</td>\n      <td>0</td>\n      <td>0</td>\n    </tr>\n    <tr>\n      <th>112</th>\n      <td>1</td>\n      <td>40.65</td>\n      <td>0</td>\n      <td>0</td>\n      <td>0</td>\n      <td>1</td>\n      <td>0</td>\n      <td>0</td>\n      <td>0</td>\n      <td>0</td>\n      <td>1</td>\n    </tr>\n    <tr>\n      <th>113</th>\n      <td>1</td>\n      <td>43.05</td>\n      <td>1</td>\n      <td>0</td>\n      <td>0</td>\n      <td>0</td>\n      <td>0</td>\n      <td>0</td>\n      <td>1</td>\n      <td>0</td>\n      <td>0</td>\n    </tr>\n  </tbody>\n</table>\n<p>114 rows × 11 columns</p>\n</div>"
     },
     "execution_count": 21,
     "metadata": {},
     "output_type": "execute_result"
    }
   ],
   "source": [
    "features_test"
   ],
   "metadata": {
    "collapsed": false,
    "pycharm": {
     "name": "#%%\n"
    }
   }
  },
  {
   "cell_type": "code",
   "execution_count": 22,
   "outputs": [
    {
     "data": {
      "text/plain": "https://fortis-development.ru/flats?result_mode=0&complex_visual_mode=0&property_visual_mode=1&is_free=1&complex=4                                                                                                                231\nhttps://www.pik.ru/search/ekb/kosmonavtov11                                                                                                                                                                                        93\nhttps://www.pik.ru/search/ekb/ip                                                                                                                                                                                                   90\nhttps://жктихомиров.рф/flat/search-parameters                                                                                                                                                                                      49\nhttps://www.an-nks.ru/search?view=filter-search&type=0&prev_type=0&district=Юго-Западный&prev_district=Юго-Западный&prev_stock=&price%5Bfrom%5D=800000&price%5Bto%5D=120000000&ploshchad%5Bfrom%5D=13.5&ploshchad%5Bto%5D=1083     30\nhttps://www.an-nks.ru/search?view=filter-search&type=0&prev_type=0&district=ВИЗ&prev_district=ВИЗ&prev_stock=&price%5Bfrom%5D=690000&price%5Bto%5D=16700000&ploshchad%5Bfrom%5D=14.5&ploshchad%5Bto%5D=143.6                       29\nhttps://www.an-nks.ru/search?view=filter-search&type=0&prev_type=0&district=Академический&prev_district=Академический&prev_stock=&price%5Bfrom%5D=420000&price%5Bto%5D=5990000&ploshchad%5Bfrom%5D=16.8&ploshchad%5Bto%5D=77.4     24\nhttps://catalog.vysotadom.ru/?roistat_visit=500854&page=2                                                                                                                                                                          14\nhttps://surikov-dom.ru/#/macrocatalog/houses/1538926/plans?studio=null&category=flat&activity=sell&presMode=complex                                                                                                                 7\nName: ссылка, dtype: int64"
     },
     "execution_count": 22,
     "metadata": {},
     "output_type": "execute_result"
    }
   ],
   "source": [
    "df['ссылка'].value_counts()"
   ],
   "metadata": {
    "collapsed": false,
    "pycharm": {
     "name": "#%%\n"
    }
   }
  },
  {
   "cell_type": "code",
   "execution_count": 23,
   "outputs": [
    {
     "data": {
      "text/plain": "     количество_комнат  площадь  район_Академический  район_Верх-Исетский  \\\n257                  1    42.86                    0                    1   \n258                  1    43.19                    0                    1   \n259                  1    40.75                    0                    1   \n260                  1    42.83                    0                    1   \n261                  1    43.94                    0                    1   \n262                  1    42.83                    0                    1   \n263                  1    42.86                    0                    1   \n264                  1    41.64                    0                    1   \n265                  1    40.75                    0                    1   \n266                  1    43.19                    0                    1   \n267                  1    40.42                    0                    1   \n268                  1    41.64                    0                    1   \n269                  1    42.02                    0                    1   \n270                  1    46.22                    0                    1   \n271                  1    41.35                    0                    1   \n272                  1    41.83                    0                    1   \n273                  1    43.22                    0                    1   \n274                  1    50.45                    0                    1   \n275                  1    51.20                    0                    1   \n276                  1    50.45                    0                    1   \n277                  1    51.20                    0                    1   \n278                  2    53.70                    0                    1   \n279                  2    54.49                    0                    1   \n280                  2    53.77                    0                    1   \n281                  2    58.93                    0                    1   \n282                  2    54.56                    0                    1   \n283                  2    53.58                    0                    1   \n284                  2    54.37                    0                    1   \n285                  2    58.93                    0                    1   \n286                  2    57.54                    0                    1   \n287                  2    62.14                    0                    1   \n288                  2    57.54                    0                    1   \n289                  2    62.14                    0                    1   \n290                  2    63.13                    0                    1   \n291                  2    62.14                    0                    1   \n292                  2    63.13                    0                    1   \n293                  2    66.05                    0                    1   \n294                  2    62.93                    0                    1   \n295                  2    66.05                    0                    1   \n296                  2    66.05                    0                    1   \n297                  2    62.93                    0                    1   \n298                  2    62.63                    0                    1   \n299                  3    80.26                    0                    1   \n300                  3    80.26                    0                    1   \n301                  3    79.15                    0                    1   \n302                  3    79.15                    0                    1   \n303                  3    78.65                    0                    1   \n304                  3    97.22                    0                    1   \n305                  3    97.22                    0                    1   \n\n     район_Железнодорожный  район_Ленинский  район_Октябрьский  \\\n257                      0                0                  0   \n258                      0                0                  0   \n259                      0                0                  0   \n260                      0                0                  0   \n261                      0                0                  0   \n262                      0                0                  0   \n263                      0                0                  0   \n264                      0                0                  0   \n265                      0                0                  0   \n266                      0                0                  0   \n267                      0                0                  0   \n268                      0                0                  0   \n269                      0                0                  0   \n270                      0                0                  0   \n271                      0                0                  0   \n272                      0                0                  0   \n273                      0                0                  0   \n274                      0                0                  0   \n275                      0                0                  0   \n276                      0                0                  0   \n277                      0                0                  0   \n278                      0                0                  0   \n279                      0                0                  0   \n280                      0                0                  0   \n281                      0                0                  0   \n282                      0                0                  0   \n283                      0                0                  0   \n284                      0                0                  0   \n285                      0                0                  0   \n286                      0                0                  0   \n287                      0                0                  0   \n288                      0                0                  0   \n289                      0                0                  0   \n290                      0                0                  0   \n291                      0                0                  0   \n292                      0                0                  0   \n293                      0                0                  0   \n294                      0                0                  0   \n295                      0                0                  0   \n296                      0                0                  0   \n297                      0                0                  0   \n298                      0                0                  0   \n299                      0                0                  0   \n300                      0                0                  0   \n301                      0                0                  0   \n302                      0                0                  0   \n303                      0                0                  0   \n304                      0                0                  0   \n305                      0                0                  0   \n\n     район_Чкаловский  категория_дешевая  категория_премиальная  \\\n257                 0                  1                      0   \n258                 0                  1                      0   \n259                 0                  1                      0   \n260                 0                  1                      0   \n261                 0                  1                      0   \n262                 0                  1                      0   \n263                 0                  1                      0   \n264                 0                  1                      0   \n265                 0                  1                      0   \n266                 0                  1                      0   \n267                 0                  1                      0   \n268                 0                  1                      0   \n269                 0                  1                      0   \n270                 0                  0                      0   \n271                 0                  0                      0   \n272                 0                  0                      0   \n273                 0                  0                      0   \n274                 0                  0                      0   \n275                 0                  0                      0   \n276                 0                  0                      0   \n277                 0                  0                      0   \n278                 0                  0                      0   \n279                 0                  0                      0   \n280                 0                  0                      0   \n281                 0                  0                      0   \n282                 0                  0                      0   \n283                 0                  0                      0   \n284                 0                  0                      0   \n285                 0                  0                      0   \n286                 0                  0                      0   \n287                 0                  0                      1   \n288                 0                  0                      1   \n289                 0                  0                      1   \n290                 0                  0                      1   \n291                 0                  0                      1   \n292                 0                  0                      1   \n293                 0                  0                      1   \n294                 0                  0                      1   \n295                 0                  0                      1   \n296                 0                  0                      1   \n297                 0                  0                      1   \n298                 0                  0                      1   \n299                 0                  0                      1   \n300                 0                  0                      1   \n301                 0                  0                      1   \n302                 0                  0                      1   \n303                 0                  0                      1   \n304                 0                  0                      1   \n305                 0                  0                      1   \n\n     категория_средняя  \n257                  0  \n258                  0  \n259                  0  \n260                  0  \n261                  0  \n262                  0  \n263                  0  \n264                  0  \n265                  0  \n266                  0  \n267                  0  \n268                  0  \n269                  0  \n270                  1  \n271                  1  \n272                  1  \n273                  1  \n274                  1  \n275                  1  \n276                  1  \n277                  1  \n278                  1  \n279                  1  \n280                  1  \n281                  1  \n282                  1  \n283                  1  \n284                  1  \n285                  1  \n286                  1  \n287                  0  \n288                  0  \n289                  0  \n290                  0  \n291                  0  \n292                  0  \n293                  0  \n294                  0  \n295                  0  \n296                  0  \n297                  0  \n298                  0  \n299                  0  \n300                  0  \n301                  0  \n302                  0  \n303                  0  \n304                  0  \n305                  0  ",
      "text/html": "<div>\n<style scoped>\n    .dataframe tbody tr th:only-of-type {\n        vertical-align: middle;\n    }\n\n    .dataframe tbody tr th {\n        vertical-align: top;\n    }\n\n    .dataframe thead th {\n        text-align: right;\n    }\n</style>\n<table border=\"1\" class=\"dataframe\">\n  <thead>\n    <tr style=\"text-align: right;\">\n      <th></th>\n      <th>количество_комнат</th>\n      <th>площадь</th>\n      <th>район_Академический</th>\n      <th>район_Верх-Исетский</th>\n      <th>район_Железнодорожный</th>\n      <th>район_Ленинский</th>\n      <th>район_Октябрьский</th>\n      <th>район_Чкаловский</th>\n      <th>категория_дешевая</th>\n      <th>категория_премиальная</th>\n      <th>категория_средняя</th>\n    </tr>\n  </thead>\n  <tbody>\n    <tr>\n      <th>257</th>\n      <td>1</td>\n      <td>42.86</td>\n      <td>0</td>\n      <td>1</td>\n      <td>0</td>\n      <td>0</td>\n      <td>0</td>\n      <td>0</td>\n      <td>1</td>\n      <td>0</td>\n      <td>0</td>\n    </tr>\n    <tr>\n      <th>258</th>\n      <td>1</td>\n      <td>43.19</td>\n      <td>0</td>\n      <td>1</td>\n      <td>0</td>\n      <td>0</td>\n      <td>0</td>\n      <td>0</td>\n      <td>1</td>\n      <td>0</td>\n      <td>0</td>\n    </tr>\n    <tr>\n      <th>259</th>\n      <td>1</td>\n      <td>40.75</td>\n      <td>0</td>\n      <td>1</td>\n      <td>0</td>\n      <td>0</td>\n      <td>0</td>\n      <td>0</td>\n      <td>1</td>\n      <td>0</td>\n      <td>0</td>\n    </tr>\n    <tr>\n      <th>260</th>\n      <td>1</td>\n      <td>42.83</td>\n      <td>0</td>\n      <td>1</td>\n      <td>0</td>\n      <td>0</td>\n      <td>0</td>\n      <td>0</td>\n      <td>1</td>\n      <td>0</td>\n      <td>0</td>\n    </tr>\n    <tr>\n      <th>261</th>\n      <td>1</td>\n      <td>43.94</td>\n      <td>0</td>\n      <td>1</td>\n      <td>0</td>\n      <td>0</td>\n      <td>0</td>\n      <td>0</td>\n      <td>1</td>\n      <td>0</td>\n      <td>0</td>\n    </tr>\n    <tr>\n      <th>262</th>\n      <td>1</td>\n      <td>42.83</td>\n      <td>0</td>\n      <td>1</td>\n      <td>0</td>\n      <td>0</td>\n      <td>0</td>\n      <td>0</td>\n      <td>1</td>\n      <td>0</td>\n      <td>0</td>\n    </tr>\n    <tr>\n      <th>263</th>\n      <td>1</td>\n      <td>42.86</td>\n      <td>0</td>\n      <td>1</td>\n      <td>0</td>\n      <td>0</td>\n      <td>0</td>\n      <td>0</td>\n      <td>1</td>\n      <td>0</td>\n      <td>0</td>\n    </tr>\n    <tr>\n      <th>264</th>\n      <td>1</td>\n      <td>41.64</td>\n      <td>0</td>\n      <td>1</td>\n      <td>0</td>\n      <td>0</td>\n      <td>0</td>\n      <td>0</td>\n      <td>1</td>\n      <td>0</td>\n      <td>0</td>\n    </tr>\n    <tr>\n      <th>265</th>\n      <td>1</td>\n      <td>40.75</td>\n      <td>0</td>\n      <td>1</td>\n      <td>0</td>\n      <td>0</td>\n      <td>0</td>\n      <td>0</td>\n      <td>1</td>\n      <td>0</td>\n      <td>0</td>\n    </tr>\n    <tr>\n      <th>266</th>\n      <td>1</td>\n      <td>43.19</td>\n      <td>0</td>\n      <td>1</td>\n      <td>0</td>\n      <td>0</td>\n      <td>0</td>\n      <td>0</td>\n      <td>1</td>\n      <td>0</td>\n      <td>0</td>\n    </tr>\n    <tr>\n      <th>267</th>\n      <td>1</td>\n      <td>40.42</td>\n      <td>0</td>\n      <td>1</td>\n      <td>0</td>\n      <td>0</td>\n      <td>0</td>\n      <td>0</td>\n      <td>1</td>\n      <td>0</td>\n      <td>0</td>\n    </tr>\n    <tr>\n      <th>268</th>\n      <td>1</td>\n      <td>41.64</td>\n      <td>0</td>\n      <td>1</td>\n      <td>0</td>\n      <td>0</td>\n      <td>0</td>\n      <td>0</td>\n      <td>1</td>\n      <td>0</td>\n      <td>0</td>\n    </tr>\n    <tr>\n      <th>269</th>\n      <td>1</td>\n      <td>42.02</td>\n      <td>0</td>\n      <td>1</td>\n      <td>0</td>\n      <td>0</td>\n      <td>0</td>\n      <td>0</td>\n      <td>1</td>\n      <td>0</td>\n      <td>0</td>\n    </tr>\n    <tr>\n      <th>270</th>\n      <td>1</td>\n      <td>46.22</td>\n      <td>0</td>\n      <td>1</td>\n      <td>0</td>\n      <td>0</td>\n      <td>0</td>\n      <td>0</td>\n      <td>0</td>\n      <td>0</td>\n      <td>1</td>\n    </tr>\n    <tr>\n      <th>271</th>\n      <td>1</td>\n      <td>41.35</td>\n      <td>0</td>\n      <td>1</td>\n      <td>0</td>\n      <td>0</td>\n      <td>0</td>\n      <td>0</td>\n      <td>0</td>\n      <td>0</td>\n      <td>1</td>\n    </tr>\n    <tr>\n      <th>272</th>\n      <td>1</td>\n      <td>41.83</td>\n      <td>0</td>\n      <td>1</td>\n      <td>0</td>\n      <td>0</td>\n      <td>0</td>\n      <td>0</td>\n      <td>0</td>\n      <td>0</td>\n      <td>1</td>\n    </tr>\n    <tr>\n      <th>273</th>\n      <td>1</td>\n      <td>43.22</td>\n      <td>0</td>\n      <td>1</td>\n      <td>0</td>\n      <td>0</td>\n      <td>0</td>\n      <td>0</td>\n      <td>0</td>\n      <td>0</td>\n      <td>1</td>\n    </tr>\n    <tr>\n      <th>274</th>\n      <td>1</td>\n      <td>50.45</td>\n      <td>0</td>\n      <td>1</td>\n      <td>0</td>\n      <td>0</td>\n      <td>0</td>\n      <td>0</td>\n      <td>0</td>\n      <td>0</td>\n      <td>1</td>\n    </tr>\n    <tr>\n      <th>275</th>\n      <td>1</td>\n      <td>51.20</td>\n      <td>0</td>\n      <td>1</td>\n      <td>0</td>\n      <td>0</td>\n      <td>0</td>\n      <td>0</td>\n      <td>0</td>\n      <td>0</td>\n      <td>1</td>\n    </tr>\n    <tr>\n      <th>276</th>\n      <td>1</td>\n      <td>50.45</td>\n      <td>0</td>\n      <td>1</td>\n      <td>0</td>\n      <td>0</td>\n      <td>0</td>\n      <td>0</td>\n      <td>0</td>\n      <td>0</td>\n      <td>1</td>\n    </tr>\n    <tr>\n      <th>277</th>\n      <td>1</td>\n      <td>51.20</td>\n      <td>0</td>\n      <td>1</td>\n      <td>0</td>\n      <td>0</td>\n      <td>0</td>\n      <td>0</td>\n      <td>0</td>\n      <td>0</td>\n      <td>1</td>\n    </tr>\n    <tr>\n      <th>278</th>\n      <td>2</td>\n      <td>53.70</td>\n      <td>0</td>\n      <td>1</td>\n      <td>0</td>\n      <td>0</td>\n      <td>0</td>\n      <td>0</td>\n      <td>0</td>\n      <td>0</td>\n      <td>1</td>\n    </tr>\n    <tr>\n      <th>279</th>\n      <td>2</td>\n      <td>54.49</td>\n      <td>0</td>\n      <td>1</td>\n      <td>0</td>\n      <td>0</td>\n      <td>0</td>\n      <td>0</td>\n      <td>0</td>\n      <td>0</td>\n      <td>1</td>\n    </tr>\n    <tr>\n      <th>280</th>\n      <td>2</td>\n      <td>53.77</td>\n      <td>0</td>\n      <td>1</td>\n      <td>0</td>\n      <td>0</td>\n      <td>0</td>\n      <td>0</td>\n      <td>0</td>\n      <td>0</td>\n      <td>1</td>\n    </tr>\n    <tr>\n      <th>281</th>\n      <td>2</td>\n      <td>58.93</td>\n      <td>0</td>\n      <td>1</td>\n      <td>0</td>\n      <td>0</td>\n      <td>0</td>\n      <td>0</td>\n      <td>0</td>\n      <td>0</td>\n      <td>1</td>\n    </tr>\n    <tr>\n      <th>282</th>\n      <td>2</td>\n      <td>54.56</td>\n      <td>0</td>\n      <td>1</td>\n      <td>0</td>\n      <td>0</td>\n      <td>0</td>\n      <td>0</td>\n      <td>0</td>\n      <td>0</td>\n      <td>1</td>\n    </tr>\n    <tr>\n      <th>283</th>\n      <td>2</td>\n      <td>53.58</td>\n      <td>0</td>\n      <td>1</td>\n      <td>0</td>\n      <td>0</td>\n      <td>0</td>\n      <td>0</td>\n      <td>0</td>\n      <td>0</td>\n      <td>1</td>\n    </tr>\n    <tr>\n      <th>284</th>\n      <td>2</td>\n      <td>54.37</td>\n      <td>0</td>\n      <td>1</td>\n      <td>0</td>\n      <td>0</td>\n      <td>0</td>\n      <td>0</td>\n      <td>0</td>\n      <td>0</td>\n      <td>1</td>\n    </tr>\n    <tr>\n      <th>285</th>\n      <td>2</td>\n      <td>58.93</td>\n      <td>0</td>\n      <td>1</td>\n      <td>0</td>\n      <td>0</td>\n      <td>0</td>\n      <td>0</td>\n      <td>0</td>\n      <td>0</td>\n      <td>1</td>\n    </tr>\n    <tr>\n      <th>286</th>\n      <td>2</td>\n      <td>57.54</td>\n      <td>0</td>\n      <td>1</td>\n      <td>0</td>\n      <td>0</td>\n      <td>0</td>\n      <td>0</td>\n      <td>0</td>\n      <td>0</td>\n      <td>1</td>\n    </tr>\n    <tr>\n      <th>287</th>\n      <td>2</td>\n      <td>62.14</td>\n      <td>0</td>\n      <td>1</td>\n      <td>0</td>\n      <td>0</td>\n      <td>0</td>\n      <td>0</td>\n      <td>0</td>\n      <td>1</td>\n      <td>0</td>\n    </tr>\n    <tr>\n      <th>288</th>\n      <td>2</td>\n      <td>57.54</td>\n      <td>0</td>\n      <td>1</td>\n      <td>0</td>\n      <td>0</td>\n      <td>0</td>\n      <td>0</td>\n      <td>0</td>\n      <td>1</td>\n      <td>0</td>\n    </tr>\n    <tr>\n      <th>289</th>\n      <td>2</td>\n      <td>62.14</td>\n      <td>0</td>\n      <td>1</td>\n      <td>0</td>\n      <td>0</td>\n      <td>0</td>\n      <td>0</td>\n      <td>0</td>\n      <td>1</td>\n      <td>0</td>\n    </tr>\n    <tr>\n      <th>290</th>\n      <td>2</td>\n      <td>63.13</td>\n      <td>0</td>\n      <td>1</td>\n      <td>0</td>\n      <td>0</td>\n      <td>0</td>\n      <td>0</td>\n      <td>0</td>\n      <td>1</td>\n      <td>0</td>\n    </tr>\n    <tr>\n      <th>291</th>\n      <td>2</td>\n      <td>62.14</td>\n      <td>0</td>\n      <td>1</td>\n      <td>0</td>\n      <td>0</td>\n      <td>0</td>\n      <td>0</td>\n      <td>0</td>\n      <td>1</td>\n      <td>0</td>\n    </tr>\n    <tr>\n      <th>292</th>\n      <td>2</td>\n      <td>63.13</td>\n      <td>0</td>\n      <td>1</td>\n      <td>0</td>\n      <td>0</td>\n      <td>0</td>\n      <td>0</td>\n      <td>0</td>\n      <td>1</td>\n      <td>0</td>\n    </tr>\n    <tr>\n      <th>293</th>\n      <td>2</td>\n      <td>66.05</td>\n      <td>0</td>\n      <td>1</td>\n      <td>0</td>\n      <td>0</td>\n      <td>0</td>\n      <td>0</td>\n      <td>0</td>\n      <td>1</td>\n      <td>0</td>\n    </tr>\n    <tr>\n      <th>294</th>\n      <td>2</td>\n      <td>62.93</td>\n      <td>0</td>\n      <td>1</td>\n      <td>0</td>\n      <td>0</td>\n      <td>0</td>\n      <td>0</td>\n      <td>0</td>\n      <td>1</td>\n      <td>0</td>\n    </tr>\n    <tr>\n      <th>295</th>\n      <td>2</td>\n      <td>66.05</td>\n      <td>0</td>\n      <td>1</td>\n      <td>0</td>\n      <td>0</td>\n      <td>0</td>\n      <td>0</td>\n      <td>0</td>\n      <td>1</td>\n      <td>0</td>\n    </tr>\n    <tr>\n      <th>296</th>\n      <td>2</td>\n      <td>66.05</td>\n      <td>0</td>\n      <td>1</td>\n      <td>0</td>\n      <td>0</td>\n      <td>0</td>\n      <td>0</td>\n      <td>0</td>\n      <td>1</td>\n      <td>0</td>\n    </tr>\n    <tr>\n      <th>297</th>\n      <td>2</td>\n      <td>62.93</td>\n      <td>0</td>\n      <td>1</td>\n      <td>0</td>\n      <td>0</td>\n      <td>0</td>\n      <td>0</td>\n      <td>0</td>\n      <td>1</td>\n      <td>0</td>\n    </tr>\n    <tr>\n      <th>298</th>\n      <td>2</td>\n      <td>62.63</td>\n      <td>0</td>\n      <td>1</td>\n      <td>0</td>\n      <td>0</td>\n      <td>0</td>\n      <td>0</td>\n      <td>0</td>\n      <td>1</td>\n      <td>0</td>\n    </tr>\n    <tr>\n      <th>299</th>\n      <td>3</td>\n      <td>80.26</td>\n      <td>0</td>\n      <td>1</td>\n      <td>0</td>\n      <td>0</td>\n      <td>0</td>\n      <td>0</td>\n      <td>0</td>\n      <td>1</td>\n      <td>0</td>\n    </tr>\n    <tr>\n      <th>300</th>\n      <td>3</td>\n      <td>80.26</td>\n      <td>0</td>\n      <td>1</td>\n      <td>0</td>\n      <td>0</td>\n      <td>0</td>\n      <td>0</td>\n      <td>0</td>\n      <td>1</td>\n      <td>0</td>\n    </tr>\n    <tr>\n      <th>301</th>\n      <td>3</td>\n      <td>79.15</td>\n      <td>0</td>\n      <td>1</td>\n      <td>0</td>\n      <td>0</td>\n      <td>0</td>\n      <td>0</td>\n      <td>0</td>\n      <td>1</td>\n      <td>0</td>\n    </tr>\n    <tr>\n      <th>302</th>\n      <td>3</td>\n      <td>79.15</td>\n      <td>0</td>\n      <td>1</td>\n      <td>0</td>\n      <td>0</td>\n      <td>0</td>\n      <td>0</td>\n      <td>0</td>\n      <td>1</td>\n      <td>0</td>\n    </tr>\n    <tr>\n      <th>303</th>\n      <td>3</td>\n      <td>78.65</td>\n      <td>0</td>\n      <td>1</td>\n      <td>0</td>\n      <td>0</td>\n      <td>0</td>\n      <td>0</td>\n      <td>0</td>\n      <td>1</td>\n      <td>0</td>\n    </tr>\n    <tr>\n      <th>304</th>\n      <td>3</td>\n      <td>97.22</td>\n      <td>0</td>\n      <td>1</td>\n      <td>0</td>\n      <td>0</td>\n      <td>0</td>\n      <td>0</td>\n      <td>0</td>\n      <td>1</td>\n      <td>0</td>\n    </tr>\n    <tr>\n      <th>305</th>\n      <td>3</td>\n      <td>97.22</td>\n      <td>0</td>\n      <td>1</td>\n      <td>0</td>\n      <td>0</td>\n      <td>0</td>\n      <td>0</td>\n      <td>0</td>\n      <td>1</td>\n      <td>0</td>\n    </tr>\n  </tbody>\n</table>\n</div>"
     },
     "execution_count": 23,
     "metadata": {},
     "output_type": "execute_result"
    }
   ],
   "source": [
    "table = features.loc[df['ссылка'] == 'https://жктихомиров.рф/flat/search-parameters']\n",
    "table"
   ],
   "metadata": {
    "collapsed": false,
    "pycharm": {
     "name": "#%%\n"
    }
   }
  },
  {
   "cell_type": "code",
   "execution_count": 24,
   "outputs": [
    {
     "data": {
      "text/plain": "KNeighborsClassifier(n_neighbors=453)"
     },
     "execution_count": 24,
     "metadata": {},
     "output_type": "execute_result"
    }
   ],
   "source": [
    "sk_model = KNeighborsClassifier(n_neighbors=len(features_train))\n",
    "sk_model.fit(features_train, target_train)"
   ],
   "metadata": {
    "collapsed": false,
    "pycharm": {
     "name": "#%%\n"
    }
   }
  },
  {
   "cell_type": "code",
   "execution_count": 25,
   "outputs": [
    {
     "data": {
      "text/plain": "array([[266, 152,  81, 220, 271, 159, 245, 270,  10, 277, 196,  11, 434,\n         40, 155,  91,  66, 406, 243, 377,  78, 153,  13,  38, 124, 450,\n        380, 397, 114,  28, 234, 392, 316, 258,  65, 369, 347, 439,  62,\n        103, 311, 348, 294,   2, 398, 261, 423,  19, 288, 230, 123, 250,\n        429, 278, 332, 432, 102, 117, 202, 125, 308, 116, 180, 276, 358,\n         71, 240, 252, 229, 430, 128, 193, 115, 371, 269,  33,  35, 232,\n         89, 425,  16,  47, 166, 363, 100, 403, 399,   4,  30,  20,  14,\n         39, 214, 331, 333, 151, 204, 310, 334, 387, 323, 382, 138, 346,\n        121,  63, 181, 195,  31,  77, 302, 112, 344,  88, 211, 161, 368,\n        298, 139, 443,  60,  85, 290, 106, 366, 390, 321, 388, 108, 444,\n        136, 313, 218,  82, 408,  72,  94, 239, 431, 314, 176, 219, 356,\n         70, 337, 199, 110, 215, 173, 183, 307, 182, 119,  83,  18, 237,\n        197, 286, 330, 206, 178, 194, 216, 336, 343, 301, 287, 374, 223,\n        376, 188, 133, 227, 322, 433, 400, 169, 409, 296, 414, 435, 393,\n        407, 107, 396, 438, 255, 150,  41, 154, 160,  36, 415, 171, 146,\n         48,  93, 163, 246, 247,  23, 411, 401, 452,  42, 221,  53, 222,\n        257, 273, 389,   5, 144,  90, 324, 249,  44, 405, 135, 200,   9,\n        428, 236,  58, 122, 354,   7, 132, 175, 338, 375, 345, 383, 402,\n          0, 424, 225, 174, 352, 445, 416, 446,  95, 299,  99,  21, 201,\n        127, 328, 213, 203, 170, 282, 410, 140, 327, 185, 427, 205, 134,\n        231, 208,  51,  49, 370, 184, 441, 109, 350, 394, 378, 275, 305,\n        293, 385, 217,  61,  98, 417, 317, 156, 228, 147,  68, 320, 265,\n        353, 260, 362, 300,  57, 295, 280, 342, 104,  75, 210, 105, 149,\n        289,  56, 319, 198, 168, 351, 264, 386, 422, 145, 418, 212,  43,\n         34, 372, 263, 189, 340, 355,  52, 120, 142,  17, 272, 192, 419,\n        187, 373, 137, 361, 384, 118, 172,  64,  29, 436, 141,  86, 126,\n         12, 262,  24, 186, 335, 297, 148,   1,  96, 326, 285, 244, 235,\n        274, 233, 303, 165,  67,  15, 207, 101, 315, 130, 254, 131, 306,\n         76,   3,  45, 437,  87, 447, 364, 381, 448,  97, 357, 325,  59,\n         32,  50, 365, 391, 395, 267,  80, 283, 426, 226, 190,  22, 379,\n        241, 329,  27,  37, 268, 191, 167, 251, 113, 279,  84, 440,  46,\n         25, 224, 256, 253, 157, 349, 360,  69, 259, 209,  55,  26,  73,\n        367, 281, 413, 291,  54, 412,   6, 404, 318, 451, 309, 164, 339,\n         92, 312, 284, 292, 248, 304, 442, 421, 420, 111, 449, 238,  79,\n        129, 162, 242, 179, 158,   8, 177,  74, 341, 359, 143]],\n      dtype=int64)"
     },
     "execution_count": 25,
     "metadata": {},
     "output_type": "execute_result"
    }
   ],
   "source": [
    "pr = sk_model.kneighbors([features_test.loc[0]], return_distance=False)\n",
    "pr"
   ],
   "metadata": {
    "collapsed": false,
    "pycharm": {
     "name": "#%%\n"
    }
   }
  },
  {
   "cell_type": "code",
   "execution_count": 26,
   "outputs": [
    {
     "data": {
      "text/plain": "array([266, 152,  81, 220, 271, 159, 245, 270,  10, 277, 196,  11, 434,\n        40, 155,  91,  66, 406, 243, 377,  78, 153,  13,  38, 124, 450,\n       380, 397, 114,  28, 234, 392, 316, 258,  65, 369, 347, 439,  62,\n       103, 311, 348, 294,   2, 398, 261, 423,  19, 288, 230, 123, 250,\n       429, 278, 332, 432, 102, 117, 202, 125, 308, 116, 180, 276, 358,\n        71, 240, 252, 229, 430, 128, 193, 115, 371, 269,  33,  35, 232,\n        89, 425,  16,  47, 166, 363, 100, 403, 399,   4,  30,  20,  14,\n        39, 214, 331, 333, 151, 204, 310, 334, 387, 323, 382, 138, 346,\n       121,  63, 181, 195,  31,  77, 302, 112, 344,  88, 211, 161, 368,\n       298, 139, 443,  60,  85, 290, 106, 366, 390, 321, 388, 108, 444,\n       136, 313, 218,  82, 408,  72,  94, 239, 431, 314, 176, 219, 356,\n        70, 337, 199, 110, 215, 173, 183, 307, 182, 119,  83,  18, 237,\n       197, 286, 330, 206, 178, 194, 216, 336, 343, 301, 287, 374, 223,\n       376, 188, 133, 227, 322, 433, 400, 169, 409, 296, 414, 435, 393,\n       407, 107, 396, 438, 255, 150,  41, 154, 160,  36, 415, 171, 146,\n        48,  93, 163, 246, 247,  23, 411, 401, 452,  42, 221,  53, 222,\n       257, 273, 389,   5, 144,  90, 324, 249,  44, 405, 135, 200,   9,\n       428, 236,  58, 122, 354,   7, 132, 175, 338, 375, 345, 383, 402,\n         0, 424, 225, 174, 352, 445, 416, 446,  95, 299,  99,  21, 201,\n       127, 328, 213, 203, 170, 282, 410, 140, 327, 185, 427, 205, 134,\n       231, 208,  51,  49, 370, 184, 441, 109, 350, 394, 378, 275, 305,\n       293, 385, 217,  61,  98, 417, 317, 156, 228, 147,  68, 320, 265,\n       353, 260, 362, 300,  57, 295, 280, 342, 104,  75, 210, 105, 149,\n       289,  56, 319, 198, 168, 351, 264, 386, 422, 145, 418, 212,  43,\n        34, 372, 263, 189, 340, 355,  52, 120, 142,  17, 272, 192, 419,\n       187, 373, 137, 361, 384, 118, 172,  64,  29, 436, 141,  86, 126,\n        12, 262,  24, 186, 335, 297, 148,   1,  96, 326, 285, 244, 235,\n       274, 233, 303, 165,  67,  15, 207, 101, 315, 130, 254, 131, 306,\n        76,   3,  45, 437,  87, 447, 364, 381, 448,  97, 357, 325,  59,\n        32,  50, 365, 391, 395, 267,  80, 283, 426, 226, 190,  22, 379,\n       241, 329,  27,  37, 268, 191, 167, 251, 113, 279,  84, 440,  46,\n        25, 224, 256, 253, 157, 349, 360,  69, 259, 209,  55,  26,  73,\n       367, 281, 413, 291,  54, 412,   6, 404, 318, 451, 309, 164, 339,\n        92, 312, 284, 292, 248, 304, 442, 421, 420, 111, 449, 238,  79,\n       129, 162, 242, 179, 158,   8, 177,  74, 341, 359, 143], dtype=int64)"
     },
     "execution_count": 26,
     "metadata": {},
     "output_type": "execute_result"
    }
   ],
   "source": [
    "pr[0]"
   ],
   "metadata": {
    "collapsed": false,
    "pycharm": {
     "name": "#%%\n"
    }
   }
  },
  {
   "cell_type": "code",
   "execution_count": 27,
   "outputs": [
    {
     "data": {
      "text/plain": "0          https://www.pik.ru/search/ekb/kosmonavtov11\n1    https://www.an-nks.ru/search?view=filter-searc...\n2                     https://www.pik.ru/search/ekb/ip\nName: ссылка, dtype: object"
     },
     "execution_count": 27,
     "metadata": {},
     "output_type": "execute_result"
    }
   ],
   "source": [
    "target_train[pr[0]].drop_duplicates().reset_index(drop=True).loc[0:2]"
   ],
   "metadata": {
    "collapsed": false,
    "pycharm": {
     "name": "#%%\n"
    }
   }
  },
  {
   "cell_type": "code",
   "execution_count": 28,
   "outputs": [],
   "source": [
    "def make_neighbors_data(rooms, area, place, category):\n",
    "    sh = [\n",
    "        [3, 19, 'академический', 'дешевая'],\n",
    "        [4, 20, 'верх-исетский', 'премиальная'],\n",
    "        [6, 22, 'железнодорожный', 'средняя'],\n",
    "        [7, 23, 'ленинский', 'дешевая'],\n",
    "        [8, 24, 'октябрьский', 'премиальная'],\n",
    "        [9, 25, 'чкаловский', 'средняя'],\n",
    "        [rooms, area, place, category]\n",
    "    ]\n",
    "    col = ['количество_комнат', 'площадь', 'район', 'категория']\n",
    "    data = pd.DataFrame(data=sh, columns=col)\n",
    "    data = pd.get_dummies(data)\n",
    "    return data.loc[6, :]"
   ],
   "metadata": {
    "collapsed": false,
    "pycharm": {
     "name": "#%%\n"
    }
   }
  },
  {
   "cell_type": "code",
   "execution_count": 29,
   "outputs": [],
   "source": [
    "def near_neighbors(model, target_train,  rooms, area, place, category):\n",
    "    for_model_data = make_neighbors_data(rooms, area, place, category)\n",
    "    near = model.kneighbors([for_model_data], return_distance=False)[0]\n",
    "    res = target_train[near].drop_duplicates().reset_index(drop=True)\n",
    "    return res.loc[0:2]"
   ],
   "metadata": {
    "collapsed": false,
    "pycharm": {
     "name": "#%%\n"
    }
   }
  },
  {
   "cell_type": "code",
   "execution_count": 30,
   "outputs": [
    {
     "data": {
      "text/plain": "0    https://www.an-nks.ru/search?view=filter-searc...\n1    https://fortis-development.ru/flats?result_mod...\n2    https://www.an-nks.ru/search?view=filter-searc...\nName: ссылка, dtype: object"
     },
     "execution_count": 30,
     "metadata": {},
     "output_type": "execute_result"
    }
   ],
   "source": [
    "near_neighbors(sk_model, target_train, 4, 27, 'чкаловский', 'дешевая')"
   ],
   "metadata": {
    "collapsed": false,
    "pycharm": {
     "name": "#%%\n"
    }
   }
  },
  {
   "cell_type": "code",
   "execution_count": 31,
   "outputs": [
    {
     "data": {
      "text/plain": "[количество_комнат         4\n площадь                  27\n район_академический       0\n район_верх-исетский       0\n район_железнодорожный     0\n район_ленинский           0\n район_октябрьский         0\n район_чкаловский          1\n категория_дешевая         1\n категория_премиальная     0\n категория_средняя         0\n Name: 6, dtype: int64]"
     },
     "execution_count": 31,
     "metadata": {},
     "output_type": "execute_result"
    }
   ],
   "source": [
    "a = [make_neighbors_data(4, 27, 'чкаловский', 'дешевая')]\n",
    "a"
   ],
   "metadata": {
    "collapsed": false,
    "pycharm": {
     "name": "#%%\n"
    }
   }
  },
  {
   "cell_type": "code",
   "execution_count": 32,
   "outputs": [
    {
     "data": {
      "text/plain": "array([386, 264, 263, 145, 418, 189,  43, 212, 422, 372,  34, 142, 120,\n       419,  17, 272,  52, 192, 187, 355, 340, 168, 351,  64, 280, 149,\n       295,  86, 297, 126, 262, 335,  24, 186, 148,  12,  96, 244,   1,\n       274, 326, 285, 235, 165, 303,  67, 315, 101, 130, 207,  15, 300,\n        45, 437,  76, 254,   3,  87, 131, 306, 447, 325, 448,  32,  59,\n        97, 365,  50, 381, 391, 357, 268, 241, 329, 190, 226, 379,  37,\n        22, 426,  27, 364, 279,  46, 224, 113,  25, 167, 440, 191, 251,\n        84, 283, 267,  80, 395, 260, 256, 253, 349, 157, 360, 259,  69,\n       281, 413, 291,  73,  55, 367, 209,  26,  54, 339, 164, 451, 309,\n       353,  92, 312, 265, 320, 156, 228, 317, 420, 111, 421, 417,  98,\n       217, 385, 378, 275, 293, 305,  61, 162, 449, 238, 242, 179, 129,\n        79, 109, 370,  51,  49, 205, 441, 208, 231, 134, 184, 427, 327,\n       140, 410, 328, 445, 446, 170, 201, 203, 174, 416,  95,  99, 299,\n       213, 282,  21, 352, 127, 424, 225, 375, 383, 402, 345,   0, 338,\n       354,   7, 132, 175, 122,  58, 200, 249, 135,   9, 405,  44, 389,\n       222, 144,   5, 273, 257,  90, 324, 452,  53, 221, 401,  42, 411,\n        23, 246, 163, 146,  48, 415,  36, 160, 154, 150,  41, 255, 396,\n       438, 296, 414, 407, 435, 393, 133, 188, 343, 336, 223, 376, 374,\n       301, 287, 216, 206, 178, 194, 286, 330, 237,  18,  83, 182, 307,\n       183, 173, 110, 337, 356,  70, 199, 219, 176, 314, 431,  72,  94,\n       239, 408, 444, 108, 390, 366, 106, 290, 443, 302,  88,  77, 112,\n       344, 211, 161,  31, 195, 310, 387, 204, 151, 333, 331, 334,  14,\n        20,  39, 100, 363, 269, 232,  35, 115, 371, 193, 252, 128, 230,\n       432, 102, 429, 250, 278, 123, 332, 261, 180,  19, 423, 125, 117,\n       288, 316, 392,  28, 124, 243, 406,  13,  40,  11, 434, 196, 153,\n        10, 277, 270, 245, 266, 159, 271, 220, 155,  78, 377,  91,  66,\n       152,  81,  38, 450, 397, 114, 380, 234, 258,   2, 439, 103, 294,\n        62, 348, 398, 311,  65, 369, 347, 202, 276, 308, 116,  71, 358,\n       240, 229, 430,  33,  16, 425,  89,  47, 399, 403, 166,   4,  30,\n       138,  63, 121, 346, 323, 382, 214, 181, 368, 298, 139,  60,  85,\n       321, 388, 136, 218, 313,  82, 215, 119, 197, 400, 433, 322, 169,\n       227, 409, 107, 171,  93, 247, 428, 236, 185, 394, 350,  68, 147,\n       362,  57, 342, 104,  75, 210, 105, 319, 289,  56, 198, 172, 373,\n       118, 384, 361, 137, 141,  29, 436, 233,   6, 318, 404, 412, 442,\n       292, 248, 284, 304, 158,   8, 177,  74, 341, 359, 143], dtype=int64)"
     },
     "execution_count": 32,
     "metadata": {},
     "output_type": "execute_result"
    }
   ],
   "source": [
    "b = sk_model.kneighbors(a, return_distance=False)[0]\n",
    "b"
   ],
   "metadata": {
    "collapsed": false,
    "pycharm": {
     "name": "#%%\n"
    }
   }
  },
  {
   "cell_type": "code",
   "execution_count": 33,
   "outputs": [
    {
     "data": {
      "text/plain": "KNeighborsClassifier(n_neighbors=567)"
     },
     "execution_count": 33,
     "metadata": {},
     "output_type": "execute_result"
    }
   ],
   "source": [
    "best_neighbors = KNeighborsClassifier(n_neighbors=len(features))\n",
    "best_neighbors.fit(features, target)"
   ],
   "metadata": {
    "collapsed": false,
    "pycharm": {
     "name": "#%%\n"
    }
   }
  },
  {
   "cell_type": "code",
   "execution_count": 34,
   "outputs": [],
   "source": [
    "#with open('neighbors.pkl' , 'wb') as f:\n",
    "    #pickle.dump(best_neighbors, f)"
   ],
   "metadata": {
    "collapsed": false,
    "pycharm": {
     "name": "#%%\n"
    }
   }
  },
  {
   "cell_type": "code",
   "execution_count": 35,
   "outputs": [],
   "source": [
    "target.to_csv('url.csv', index=False)"
   ],
   "metadata": {
    "collapsed": false,
    "pycharm": {
     "name": "#%%\n"
    }
   }
  },
  {
   "cell_type": "code",
   "execution_count": 36,
   "outputs": [],
   "source": [
    "a = pd.read_csv('url.csv')['ссылка']\n",
    "a"
   ],
   "metadata": {
    "collapsed": false,
    "pycharm": {
     "name": "#%%\n"
    }
   }
  },
  {
   "cell_type": "code",
   "execution_count": 38,
   "outputs": [
    {
     "data": {
      "text/plain": "0      https://www.an-nks.ru/search?view=filter-searc...\n1      https://www.an-nks.ru/search?view=filter-searc...\n2      https://www.an-nks.ru/search?view=filter-searc...\n3      https://www.an-nks.ru/search?view=filter-searc...\n4      https://www.an-nks.ru/search?view=filter-searc...\n                             ...                        \n562    https://www.an-nks.ru/search?view=filter-searc...\n563    https://www.an-nks.ru/search?view=filter-searc...\n564    https://www.an-nks.ru/search?view=filter-searc...\n565    https://www.an-nks.ru/search?view=filter-searc...\n566    https://www.an-nks.ru/search?view=filter-searc...\nName: ссылка, Length: 567, dtype: object"
     },
     "execution_count": 38,
     "metadata": {},
     "output_type": "execute_result"
    }
   ],
   "source": [
    "target"
   ],
   "metadata": {
    "collapsed": false,
    "pycharm": {
     "name": "#%%\n"
    }
   }
  },
  {
   "cell_type": "code",
   "execution_count": 38,
   "outputs": [],
   "source": [],
   "metadata": {
    "collapsed": false,
    "pycharm": {
     "name": "#%%\n"
    }
   }
  }
 ],
 "metadata": {
  "kernelspec": {
   "display_name": "Python 3",
   "language": "python",
   "name": "python3"
  },
  "language_info": {
   "codemirror_mode": {
    "name": "ipython",
    "version": 2
   },
   "file_extension": ".py",
   "mimetype": "text/x-python",
   "name": "python",
   "nbconvert_exporter": "python",
   "pygments_lexer": "ipython2",
   "version": "2.7.6"
  }
 },
 "nbformat": 4,
 "nbformat_minor": 0
}